{
 "cells": [
  {
   "cell_type": "markdown",
   "metadata": {},
   "source": [
    "# Площадь под графиком и управление порогом\n",
    "## Цель работы\n",
    "Научиться применять кривые PR и ROC для оценки моделей классификации, использовать их для выбора оптимального порога классификации"
   ]
  },
  {
   "cell_type": "markdown",
   "metadata": {},
   "source": [
    "## Содержание работы\n",
    "1. Сгенерируйте датасет для бинарной классификации, обучите на нем модель логистической регрессии и постройте для этой модели кривые ROC и PR.\n",
    "2. Вычислите для этой модели метрики площади под кривыми (ROC-AUC и PR-AUC).\n",
    "3. Обучите на том же датасете другую модель и сравните ее эффективность по кривым и по метрикам.\n",
    "4. Сгенерируйте датасет для бинарной классификации с большим дисбалансом классов, обучите на нам ту же модель и постройте кривые.\n",
    "5. Используйте данные, вычисленные для построения кривых для нахождения оптимального значения порога модели. Постройте матрицу классификации для модели с порогом по умолчанию и с лучшим порогом. Сравните результаты."
   ]
  },
  {
   "cell_type": "code",
   "execution_count": 1,
   "metadata": {},
   "outputs": [],
   "source": [
    "import pandas as pd\n",
    "import numpy as np\n",
    "import seaborn as sns"
   ]
  },
  {
   "cell_type": "markdown",
   "metadata": {},
   "source": [
    "### 1. Сгенерируйте датасет для бинарной классификации, обучите на нем модель логистической регрессии и постройте для этой модели кривые ROC и PR."
   ]
  },
  {
   "cell_type": "code",
   "execution_count": 2,
   "metadata": {},
   "outputs": [],
   "source": [
    "from sklearn.datasets import make_classification\n",
    "from sklearn.model_selection import train_test_split\n",
    "from sklearn.linear_model import LogisticRegression"
   ]
  },
  {
   "cell_type": "code",
   "execution_count": 3,
   "metadata": {},
   "outputs": [],
   "source": [
    "X, y = make_classification(n_samples=1000, n_classes=2, random_state=1)"
   ]
  },
  {
   "cell_type": "code",
   "execution_count": 4,
   "metadata": {},
   "outputs": [],
   "source": [
    "X_train, X_test, y_train, y_test = train_test_split(X, y, test_size=0.5, random_state=2)"
   ]
  },
  {
   "cell_type": "code",
   "execution_count": 5,
   "metadata": {},
   "outputs": [],
   "source": [
    "model = LogisticRegression().fit(X_train, y_train)"
   ]
  },
  {
   "cell_type": "code",
   "execution_count": 6,
   "metadata": {},
   "outputs": [],
   "source": [
    "y_pred_proba = model.predict_proba(X_test)"
   ]
  },
  {
   "cell_type": "code",
   "execution_count": 7,
   "metadata": {},
   "outputs": [
    {
     "data": {
      "text/plain": [
       "array([[4.02731514e-03, 9.95972685e-01],\n",
       "       [2.00515726e-03, 9.97994843e-01],\n",
       "       [9.94701169e-01, 5.29883066e-03],\n",
       "       [8.47625806e-01, 1.52374194e-01],\n",
       "       [1.66665036e-03, 9.98333350e-01],\n",
       "       [4.99938552e-01, 5.00061448e-01],\n",
       "       [9.80236861e-01, 1.97631392e-02],\n",
       "       [9.76536616e-01, 2.34633843e-02],\n",
       "       [1.79993032e-02, 9.82000697e-01],\n",
       "       [2.93534820e-01, 7.06465180e-01],\n",
       "       [9.95837980e-01, 4.16201961e-03],\n",
       "       [2.53553400e-01, 7.46446600e-01],\n",
       "       [9.92334325e-01, 7.66567488e-03],\n",
       "       [3.80412811e-02, 9.61958719e-01],\n",
       "       [6.47854323e-02, 9.35214568e-01],\n",
       "       [1.92346446e-01, 8.07653554e-01],\n",
       "       [8.55196114e-01, 1.44803886e-01],\n",
       "       [4.34676792e-02, 9.56532321e-01],\n",
       "       [8.43042493e-01, 1.56957507e-01],\n",
       "       [5.50912415e-02, 9.44908759e-01],\n",
       "       [1.32992380e-01, 8.67007620e-01],\n",
       "       [5.89717936e-01, 4.10282064e-01],\n",
       "       [9.79518433e-01, 2.04815673e-02],\n",
       "       [3.32906248e-01, 6.67093752e-01],\n",
       "       [9.95736653e-01, 4.26334713e-03],\n",
       "       [4.33055309e-02, 9.56694469e-01],\n",
       "       [3.07422638e-01, 6.92577362e-01],\n",
       "       [5.59324053e-03, 9.94406759e-01],\n",
       "       [9.75084001e-01, 2.49159988e-02],\n",
       "       [4.49457316e-01, 5.50542684e-01],\n",
       "       [2.07785487e-01, 7.92214513e-01],\n",
       "       [1.84757702e-01, 8.15242298e-01],\n",
       "       [9.18170814e-01, 8.18291856e-02],\n",
       "       [1.76682001e-01, 8.23317999e-01],\n",
       "       [9.84648313e-01, 1.53516867e-02],\n",
       "       [9.20120147e-01, 7.98798532e-02],\n",
       "       [1.24480631e-02, 9.87551937e-01],\n",
       "       [6.30765357e-02, 9.36923464e-01],\n",
       "       [1.36601776e-02, 9.86339822e-01],\n",
       "       [6.80681339e-01, 3.19318661e-01],\n",
       "       [9.90174236e-01, 9.82576369e-03],\n",
       "       [9.61727720e-01, 3.82722802e-02],\n",
       "       [9.01636471e-01, 9.83635286e-02],\n",
       "       [1.62197791e-02, 9.83780221e-01],\n",
       "       [9.93462624e-01, 6.53737641e-03],\n",
       "       [4.70469377e-01, 5.29530623e-01],\n",
       "       [4.98383392e-01, 5.01616608e-01],\n",
       "       [2.23906964e-03, 9.97760930e-01],\n",
       "       [9.91590392e-01, 8.40960809e-03],\n",
       "       [8.57917175e-01, 1.42082825e-01],\n",
       "       [9.77806520e-01, 2.21934800e-02],\n",
       "       [3.52213220e-01, 6.47786780e-01],\n",
       "       [2.08849265e-02, 9.79115074e-01],\n",
       "       [7.67057617e-01, 2.32942383e-01],\n",
       "       [9.49079469e-01, 5.09205311e-02],\n",
       "       [9.62237163e-02, 9.03776284e-01],\n",
       "       [9.37919254e-01, 6.20807462e-02],\n",
       "       [9.32198456e-01, 6.78015442e-02],\n",
       "       [9.45404972e-01, 5.45950280e-02],\n",
       "       [3.81113284e-01, 6.18886716e-01],\n",
       "       [1.46594008e-01, 8.53405992e-01],\n",
       "       [9.52427117e-01, 4.75728835e-02],\n",
       "       [3.96973040e-01, 6.03026960e-01],\n",
       "       [9.71215452e-01, 2.87845483e-02],\n",
       "       [9.64612202e-01, 3.53877982e-02],\n",
       "       [8.77140408e-01, 1.22859592e-01],\n",
       "       [6.20173986e-01, 3.79826014e-01],\n",
       "       [9.96008273e-01, 3.99172706e-03],\n",
       "       [3.74214135e-01, 6.25785865e-01],\n",
       "       [1.63866619e-01, 8.36133381e-01],\n",
       "       [8.97995540e-01, 1.02004460e-01],\n",
       "       [9.72107610e-01, 2.78923900e-02],\n",
       "       [5.07180055e-02, 9.49281995e-01],\n",
       "       [1.09213005e-01, 8.90786995e-01],\n",
       "       [9.85544520e-03, 9.90144555e-01],\n",
       "       [3.50737113e-04, 9.99649263e-01],\n",
       "       [9.15980720e-01, 8.40192803e-02],\n",
       "       [3.13036705e-01, 6.86963295e-01],\n",
       "       [9.57229480e-01, 4.27705204e-02],\n",
       "       [8.40243624e-01, 1.59756376e-01],\n",
       "       [9.98526849e-01, 1.47315054e-03],\n",
       "       [9.64945522e-01, 3.50544785e-02],\n",
       "       [2.07272796e-01, 7.92727204e-01],\n",
       "       [9.97404284e-01, 2.59571555e-03],\n",
       "       [6.14743510e-02, 9.38525649e-01],\n",
       "       [7.22873283e-01, 2.77126717e-01],\n",
       "       [2.41426181e-02, 9.75857382e-01],\n",
       "       [4.71766274e-01, 5.28233726e-01],\n",
       "       [6.07397365e-02, 9.39260264e-01],\n",
       "       [1.87526618e-02, 9.81247338e-01],\n",
       "       [1.34909244e-01, 8.65090756e-01],\n",
       "       [2.90214765e-02, 9.70978524e-01],\n",
       "       [1.98135768e-01, 8.01864232e-01],\n",
       "       [8.53786405e-02, 9.14621360e-01],\n",
       "       [3.21901518e-01, 6.78098482e-01],\n",
       "       [3.48131092e-01, 6.51868908e-01],\n",
       "       [9.60412132e-01, 3.95878680e-02],\n",
       "       [4.29459204e-01, 5.70540796e-01],\n",
       "       [7.48190437e-01, 2.51809563e-01],\n",
       "       [7.27046891e-02, 9.27295311e-01],\n",
       "       [4.11257093e-02, 9.58874291e-01],\n",
       "       [8.92140493e-01, 1.07859507e-01],\n",
       "       [1.37793712e-01, 8.62206288e-01],\n",
       "       [9.83778036e-01, 1.62219637e-02],\n",
       "       [6.82164461e-01, 3.17835539e-01],\n",
       "       [4.99438248e-01, 5.00561752e-01],\n",
       "       [1.77677303e-01, 8.22322697e-01],\n",
       "       [9.27003410e-01, 7.29965896e-02],\n",
       "       [1.23387576e-01, 8.76612424e-01],\n",
       "       [5.91440080e-01, 4.08559920e-01],\n",
       "       [5.99874022e-01, 4.00125978e-01],\n",
       "       [1.91941077e-01, 8.08058923e-01],\n",
       "       [5.78180760e-02, 9.42181924e-01],\n",
       "       [5.44246339e-01, 4.55753661e-01],\n",
       "       [9.95428044e-01, 4.57195564e-03],\n",
       "       [1.20343778e-01, 8.79656222e-01],\n",
       "       [1.16388165e-02, 9.88361184e-01],\n",
       "       [8.55416321e-01, 1.44583679e-01],\n",
       "       [9.41550279e-01, 5.84497209e-02],\n",
       "       [2.37087687e-01, 7.62912313e-01],\n",
       "       [9.15063177e-01, 8.49368226e-02],\n",
       "       [9.14426205e-01, 8.55737954e-02],\n",
       "       [9.99746910e-01, 2.53090412e-04],\n",
       "       [7.69474452e-01, 2.30525548e-01],\n",
       "       [3.97680287e-01, 6.02319713e-01],\n",
       "       [5.68475010e-02, 9.43152499e-01],\n",
       "       [7.97144727e-02, 9.20285527e-01],\n",
       "       [4.30374806e-01, 5.69625194e-01],\n",
       "       [4.39565813e-01, 5.60434187e-01],\n",
       "       [1.42338844e-01, 8.57661156e-01],\n",
       "       [7.90829975e-01, 2.09170025e-01],\n",
       "       [2.85502930e-01, 7.14497070e-01],\n",
       "       [9.98146146e-01, 1.85385351e-03],\n",
       "       [8.27946563e-01, 1.72053437e-01],\n",
       "       [9.53456920e-01, 4.65430795e-02],\n",
       "       [2.44818967e-01, 7.55181033e-01],\n",
       "       [6.93126220e-01, 3.06873780e-01],\n",
       "       [9.96382240e-01, 3.61776050e-03],\n",
       "       [2.53696997e-01, 7.46303003e-01],\n",
       "       [5.65427951e-01, 4.34572049e-01],\n",
       "       [1.83726361e-01, 8.16273639e-01],\n",
       "       [9.09429213e-03, 9.90905708e-01],\n",
       "       [4.60021681e-02, 9.53997832e-01],\n",
       "       [7.92205601e-01, 2.07794399e-01],\n",
       "       [9.92739595e-01, 7.26040531e-03],\n",
       "       [9.84263818e-01, 1.57361816e-02],\n",
       "       [9.59524380e-01, 4.04756204e-02],\n",
       "       [6.74661905e-02, 9.32533809e-01],\n",
       "       [8.43388402e-02, 9.15661160e-01],\n",
       "       [9.96116401e-01, 3.88359914e-03],\n",
       "       [1.21908856e-01, 8.78091144e-01],\n",
       "       [6.80112228e-01, 3.19887772e-01],\n",
       "       [9.72944193e-01, 2.70558068e-02],\n",
       "       [8.33621512e-01, 1.66378488e-01],\n",
       "       [2.33636087e-03, 9.97663639e-01],\n",
       "       [4.38735706e-01, 5.61264294e-01],\n",
       "       [9.55491697e-01, 4.45083030e-02],\n",
       "       [5.04126134e-01, 4.95873866e-01],\n",
       "       [9.72535057e-01, 2.74649427e-02],\n",
       "       [1.42241785e-02, 9.85775821e-01],\n",
       "       [9.71774922e-01, 2.82250776e-02],\n",
       "       [3.07454675e-01, 6.92545325e-01],\n",
       "       [2.50357382e-01, 7.49642618e-01],\n",
       "       [9.97496542e-01, 2.50345847e-03],\n",
       "       [7.20654075e-01, 2.79345925e-01],\n",
       "       [7.59163525e-03, 9.92408365e-01],\n",
       "       [5.61634592e-01, 4.38365408e-01],\n",
       "       [8.58944898e-01, 1.41055102e-01],\n",
       "       [2.15231524e-01, 7.84768476e-01],\n",
       "       [9.38234764e-01, 6.17652355e-02],\n",
       "       [9.99713581e-01, 2.86419137e-04],\n",
       "       [8.12303870e-02, 9.18769613e-01],\n",
       "       [7.52349456e-02, 9.24765054e-01],\n",
       "       [9.59647683e-01, 4.03523165e-02],\n",
       "       [9.95157343e-01, 4.84265682e-03],\n",
       "       [8.01308697e-01, 1.98691303e-01],\n",
       "       [3.51972209e-02, 9.64802779e-01],\n",
       "       [9.84631452e-01, 1.53685479e-02],\n",
       "       [7.34764239e-01, 2.65235761e-01],\n",
       "       [1.51758896e-02, 9.84824110e-01],\n",
       "       [9.99763894e-01, 2.36105954e-04],\n",
       "       [5.25460579e-02, 9.47453942e-01],\n",
       "       [9.59411041e-01, 4.05889594e-02],\n",
       "       [2.38435748e-01, 7.61564252e-01],\n",
       "       [9.90098109e-01, 9.90189100e-03],\n",
       "       [1.78564504e-01, 8.21435496e-01],\n",
       "       [4.01425402e-02, 9.59857460e-01],\n",
       "       [9.20420555e-01, 7.95794455e-02],\n",
       "       [5.35792968e-01, 4.64207032e-01],\n",
       "       [5.09251492e-03, 9.94907485e-01],\n",
       "       [4.49401930e-01, 5.50598070e-01],\n",
       "       [1.89445414e-04, 9.99810555e-01],\n",
       "       [9.93557599e-01, 6.44240073e-03],\n",
       "       [4.16183640e-02, 9.58381636e-01],\n",
       "       [4.12444449e-01, 5.87555551e-01],\n",
       "       [9.96117736e-01, 3.88226374e-03],\n",
       "       [8.29930080e-01, 1.70069920e-01],\n",
       "       [9.07481769e-02, 9.09251823e-01],\n",
       "       [3.64352357e-01, 6.35647643e-01],\n",
       "       [6.72668279e-01, 3.27331721e-01],\n",
       "       [7.73375126e-01, 2.26624874e-01],\n",
       "       [2.76565325e-01, 7.23434675e-01],\n",
       "       [5.30003966e-02, 9.46999603e-01],\n",
       "       [3.46772123e-01, 6.53227877e-01],\n",
       "       [9.99003664e-01, 9.96335783e-04],\n",
       "       [7.24765716e-01, 2.75234284e-01],\n",
       "       [3.21113184e-01, 6.78886816e-01],\n",
       "       [9.94334618e-01, 5.66538228e-03],\n",
       "       [9.21812072e-01, 7.81879280e-02],\n",
       "       [5.95050557e-03, 9.94049494e-01],\n",
       "       [4.67475545e-01, 5.32524455e-01],\n",
       "       [7.17403170e-02, 9.28259683e-01],\n",
       "       [5.75548715e-01, 4.24451285e-01],\n",
       "       [2.07638247e-01, 7.92361753e-01],\n",
       "       [9.44687273e-01, 5.53127272e-02],\n",
       "       [6.24602315e-01, 3.75397685e-01],\n",
       "       [2.02251051e-02, 9.79774895e-01],\n",
       "       [1.51850338e-01, 8.48149662e-01],\n",
       "       [1.19753946e-02, 9.88024605e-01],\n",
       "       [2.67126103e-01, 7.32873897e-01],\n",
       "       [9.94515171e-01, 5.48482887e-03],\n",
       "       [3.62014482e-01, 6.37985518e-01],\n",
       "       [9.99882842e-01, 1.17157907e-04],\n",
       "       [2.95677229e-02, 9.70432277e-01],\n",
       "       [3.63955187e-01, 6.36044813e-01],\n",
       "       [9.67009287e-01, 3.29907132e-02],\n",
       "       [9.86839920e-01, 1.31600798e-02],\n",
       "       [8.42932262e-01, 1.57067738e-01],\n",
       "       [9.68102536e-01, 3.18974639e-02],\n",
       "       [4.08772285e-02, 9.59122772e-01],\n",
       "       [7.85415899e-01, 2.14584101e-01],\n",
       "       [9.83505597e-01, 1.64944034e-02],\n",
       "       [1.11635548e-01, 8.88364452e-01],\n",
       "       [6.58076161e-02, 9.34192384e-01],\n",
       "       [3.22525905e-01, 6.77474095e-01],\n",
       "       [4.36172373e-02, 9.56382763e-01],\n",
       "       [3.07594598e-01, 6.92405402e-01],\n",
       "       [4.86911958e-01, 5.13088042e-01],\n",
       "       [1.31537110e-02, 9.86846289e-01],\n",
       "       [3.66056333e-01, 6.33943667e-01],\n",
       "       [9.83291275e-01, 1.67087253e-02],\n",
       "       [7.11273108e-01, 2.88726892e-01],\n",
       "       [1.85830207e-02, 9.81416979e-01],\n",
       "       [8.15556628e-01, 1.84443372e-01],\n",
       "       [9.96405896e-01, 3.59410380e-03],\n",
       "       [2.02674166e-01, 7.97325834e-01],\n",
       "       [5.66227928e-01, 4.33772072e-01],\n",
       "       [8.85675150e-02, 9.11432485e-01],\n",
       "       [9.81161947e-01, 1.88380530e-02],\n",
       "       [2.20558615e-01, 7.79441385e-01],\n",
       "       [1.66200046e-01, 8.33799954e-01],\n",
       "       [5.46179980e-01, 4.53820020e-01],\n",
       "       [2.36688201e-01, 7.63311799e-01],\n",
       "       [3.37062685e-01, 6.62937315e-01],\n",
       "       [1.22825045e-01, 8.77174955e-01],\n",
       "       [6.44713261e-01, 3.55286739e-01],\n",
       "       [1.80183717e-01, 8.19816283e-01],\n",
       "       [8.20025915e-01, 1.79974085e-01],\n",
       "       [6.89450330e-01, 3.10549670e-01],\n",
       "       [9.73876980e-01, 2.61230205e-02],\n",
       "       [4.20979656e-02, 9.57902034e-01],\n",
       "       [9.93763094e-01, 6.23690579e-03],\n",
       "       [9.95569735e-01, 4.43026542e-03],\n",
       "       [8.71328562e-03, 9.91286714e-01],\n",
       "       [6.75382070e-01, 3.24617930e-01],\n",
       "       [9.11634020e-01, 8.83659795e-02],\n",
       "       [6.57082054e-01, 3.42917946e-01],\n",
       "       [7.38623297e-01, 2.61376703e-01],\n",
       "       [9.92653182e-01, 7.34681823e-03],\n",
       "       [7.02423683e-01, 2.97576317e-01],\n",
       "       [6.43873179e-01, 3.56126821e-01],\n",
       "       [9.18430425e-01, 8.15695751e-02],\n",
       "       [1.19168103e-01, 8.80831897e-01],\n",
       "       [9.88211830e-01, 1.17881701e-02],\n",
       "       [1.92341814e-01, 8.07658186e-01],\n",
       "       [7.11572204e-01, 2.88427796e-01],\n",
       "       [6.01159913e-01, 3.98840087e-01],\n",
       "       [9.88498137e-01, 1.15018633e-02],\n",
       "       [1.56482783e-01, 8.43517217e-01],\n",
       "       [2.31939775e-01, 7.68060225e-01],\n",
       "       [6.18692898e-01, 3.81307102e-01],\n",
       "       [7.20440406e-01, 2.79559594e-01],\n",
       "       [8.88898574e-01, 1.11101426e-01],\n",
       "       [7.70455990e-01, 2.29544010e-01],\n",
       "       [7.26401378e-01, 2.73598622e-01],\n",
       "       [1.67737387e-01, 8.32262613e-01],\n",
       "       [9.08473377e-01, 9.15266230e-02],\n",
       "       [6.74735595e-01, 3.25264405e-01],\n",
       "       [3.64479671e-01, 6.35520329e-01],\n",
       "       [9.09911375e-01, 9.00886250e-02],\n",
       "       [6.27171735e-02, 9.37282827e-01],\n",
       "       [9.17435800e-01, 8.25641999e-02],\n",
       "       [9.81838531e-01, 1.81614689e-02],\n",
       "       [8.85316692e-01, 1.14683308e-01],\n",
       "       [4.03679327e-01, 5.96320673e-01],\n",
       "       [9.96301928e-02, 9.00369807e-01],\n",
       "       [5.41811603e-01, 4.58188397e-01],\n",
       "       [2.24094167e-02, 9.77590583e-01],\n",
       "       [1.23716094e-01, 8.76283906e-01],\n",
       "       [9.89210422e-01, 1.07895775e-02],\n",
       "       [3.52341442e-01, 6.47658558e-01],\n",
       "       [1.63591491e-01, 8.36408509e-01],\n",
       "       [5.53659347e-01, 4.46340653e-01],\n",
       "       [9.51063308e-01, 4.89366919e-02],\n",
       "       [9.77453510e-01, 2.25464897e-02],\n",
       "       [9.76437039e-01, 2.35629609e-02],\n",
       "       [9.79011981e-01, 2.09880192e-02],\n",
       "       [1.10184576e-01, 8.89815424e-01],\n",
       "       [4.07380543e-01, 5.92619457e-01],\n",
       "       [9.97882327e-01, 2.11767259e-03],\n",
       "       [3.91761363e-03, 9.96082386e-01],\n",
       "       [4.32470150e-02, 9.56752985e-01],\n",
       "       [3.07487222e-01, 6.92512778e-01],\n",
       "       [1.82243714e-02, 9.81775629e-01],\n",
       "       [4.39245169e-04, 9.99560755e-01],\n",
       "       [8.53684406e-01, 1.46315594e-01],\n",
       "       [1.77411843e-02, 9.82258816e-01],\n",
       "       [3.19777038e-01, 6.80222962e-01],\n",
       "       [9.98147325e-01, 1.85267487e-03],\n",
       "       [2.56526419e-01, 7.43473581e-01],\n",
       "       [3.83189668e-02, 9.61681033e-01],\n",
       "       [4.29176525e-01, 5.70823475e-01],\n",
       "       [1.03457672e-03, 9.98965423e-01],\n",
       "       [3.87801506e-01, 6.12198494e-01],\n",
       "       [4.31265023e-01, 5.68734977e-01],\n",
       "       [5.37271957e-01, 4.62728043e-01],\n",
       "       [3.86849256e-01, 6.13150744e-01],\n",
       "       [1.04169951e-01, 8.95830049e-01],\n",
       "       [3.17200274e-01, 6.82799726e-01],\n",
       "       [3.06452387e-01, 6.93547613e-01],\n",
       "       [2.24637292e-03, 9.97753627e-01],\n",
       "       [1.12887194e-01, 8.87112806e-01],\n",
       "       [8.49638532e-04, 9.99150361e-01],\n",
       "       [9.44807502e-01, 5.51924975e-02],\n",
       "       [9.80517674e-01, 1.94823261e-02],\n",
       "       [3.53580529e-01, 6.46419471e-01],\n",
       "       [9.49992302e-01, 5.00076979e-02],\n",
       "       [5.10203957e-01, 4.89796043e-01],\n",
       "       [4.09560886e-01, 5.90439114e-01],\n",
       "       [6.97680272e-01, 3.02319728e-01],\n",
       "       [6.74480116e-02, 9.32551988e-01],\n",
       "       [9.96443238e-01, 3.55676182e-03],\n",
       "       [9.95174073e-01, 4.82592747e-03],\n",
       "       [8.62090327e-01, 1.37909673e-01],\n",
       "       [5.36794806e-01, 4.63205194e-01],\n",
       "       [3.07755349e-01, 6.92244651e-01],\n",
       "       [1.17504475e-01, 8.82495525e-01],\n",
       "       [6.60112274e-01, 3.39887726e-01],\n",
       "       [1.99353228e-01, 8.00646772e-01],\n",
       "       [1.11944263e-01, 8.88055737e-01],\n",
       "       [2.42536501e-03, 9.97574635e-01],\n",
       "       [9.86371158e-01, 1.36288421e-02],\n",
       "       [9.82273020e-01, 1.77269799e-02],\n",
       "       [4.26724744e-01, 5.73275256e-01],\n",
       "       [9.64746483e-01, 3.52535174e-02],\n",
       "       [9.85068104e-01, 1.49318962e-02],\n",
       "       [5.44187217e-02, 9.45581278e-01],\n",
       "       [7.24396715e-01, 2.75603285e-01],\n",
       "       [6.32661268e-01, 3.67338732e-01],\n",
       "       [5.21887168e-03, 9.94781128e-01],\n",
       "       [2.36937994e-01, 7.63062006e-01],\n",
       "       [1.77856585e-01, 8.22143415e-01],\n",
       "       [6.68988846e-01, 3.31011154e-01],\n",
       "       [3.85174182e-01, 6.14825818e-01],\n",
       "       [9.10279702e-01, 8.97202983e-02],\n",
       "       [1.14958463e-01, 8.85041537e-01],\n",
       "       [1.41812269e-01, 8.58187731e-01],\n",
       "       [1.42701657e-01, 8.57298343e-01],\n",
       "       [7.05666525e-01, 2.94333475e-01],\n",
       "       [2.68665000e-01, 7.31335000e-01],\n",
       "       [9.92155663e-01, 7.84433665e-03],\n",
       "       [8.33257615e-01, 1.66742385e-01],\n",
       "       [9.68952573e-01, 3.10474274e-02],\n",
       "       [6.43392168e-03, 9.93566078e-01],\n",
       "       [2.07347358e-02, 9.79265264e-01],\n",
       "       [5.41949505e-01, 4.58050495e-01],\n",
       "       [1.42997302e-01, 8.57002698e-01],\n",
       "       [3.29846733e-01, 6.70153267e-01],\n",
       "       [4.14360233e-01, 5.85639767e-01],\n",
       "       [1.10169120e-01, 8.89830880e-01],\n",
       "       [9.72745781e-01, 2.72542194e-02],\n",
       "       [9.95285661e-01, 4.71433916e-03],\n",
       "       [8.32017222e-03, 9.91679828e-01],\n",
       "       [9.15271038e-01, 8.47289616e-02],\n",
       "       [3.15752728e-02, 9.68424727e-01],\n",
       "       [1.58580143e-02, 9.84141986e-01],\n",
       "       [9.77739198e-04, 9.99022261e-01],\n",
       "       [1.09342491e-01, 8.90657509e-01],\n",
       "       [6.89091357e-03, 9.93109086e-01],\n",
       "       [3.13080572e-01, 6.86919428e-01],\n",
       "       [1.71570476e-01, 8.28429524e-01],\n",
       "       [2.59293511e-02, 9.74070649e-01],\n",
       "       [3.02618272e-01, 6.97381728e-01],\n",
       "       [9.88904186e-01, 1.10958142e-02],\n",
       "       [3.19028187e-01, 6.80971813e-01],\n",
       "       [9.93862495e-01, 6.13750462e-03],\n",
       "       [1.38177742e-01, 8.61822258e-01],\n",
       "       [9.49987610e-01, 5.00123904e-02],\n",
       "       [1.90807908e-03, 9.98091921e-01],\n",
       "       [7.17832215e-02, 9.28216778e-01],\n",
       "       [9.46731039e-01, 5.32689607e-02],\n",
       "       [8.35594831e-01, 1.64405169e-01],\n",
       "       [2.98338669e-01, 7.01661331e-01],\n",
       "       [7.17698296e-01, 2.82301704e-01],\n",
       "       [2.87549211e-01, 7.12450789e-01],\n",
       "       [1.11705147e-01, 8.88294853e-01],\n",
       "       [5.49406906e-01, 4.50593094e-01],\n",
       "       [4.11601577e-01, 5.88398423e-01],\n",
       "       [9.79735037e-01, 2.02649633e-02],\n",
       "       [8.60562354e-02, 9.13943765e-01],\n",
       "       [1.16456852e-01, 8.83543148e-01],\n",
       "       [7.22797776e-01, 2.77202224e-01],\n",
       "       [8.61075991e-01, 1.38924009e-01],\n",
       "       [3.01599078e-01, 6.98400922e-01],\n",
       "       [7.60140349e-02, 9.23985965e-01],\n",
       "       [9.89086738e-01, 1.09132622e-02],\n",
       "       [7.34609622e-02, 9.26539038e-01],\n",
       "       [4.72347014e-01, 5.27652986e-01],\n",
       "       [2.43766109e-01, 7.56233891e-01],\n",
       "       [7.03256001e-01, 2.96743999e-01],\n",
       "       [1.39672297e-02, 9.86032770e-01],\n",
       "       [9.38669211e-01, 6.13307890e-02],\n",
       "       [1.71219709e-01, 8.28780291e-01],\n",
       "       [9.85433884e-01, 1.45661160e-02],\n",
       "       [6.77592428e-01, 3.22407572e-01],\n",
       "       [9.28939624e-01, 7.10603759e-02],\n",
       "       [9.16612274e-01, 8.33877256e-02],\n",
       "       [9.66958301e-01, 3.30416995e-02],\n",
       "       [2.94378245e-03, 9.97056218e-01],\n",
       "       [2.41282170e-03, 9.97587178e-01],\n",
       "       [9.08253790e-01, 9.17462103e-02],\n",
       "       [6.59292375e-01, 3.40707625e-01],\n",
       "       [9.99903424e-01, 9.65764297e-05],\n",
       "       [9.17175437e-01, 8.28245628e-02],\n",
       "       [9.95863858e-01, 4.13614188e-03],\n",
       "       [1.01324320e-02, 9.89867568e-01],\n",
       "       [1.91527355e-01, 8.08472645e-01],\n",
       "       [8.24074801e-02, 9.17592520e-01],\n",
       "       [3.20270146e-01, 6.79729854e-01],\n",
       "       [1.90516927e-01, 8.09483073e-01],\n",
       "       [9.98747422e-01, 1.25257761e-03],\n",
       "       [1.85990297e-01, 8.14009703e-01],\n",
       "       [2.88781462e-02, 9.71121854e-01],\n",
       "       [5.09641606e-01, 4.90358394e-01],\n",
       "       [5.32410833e-01, 4.67589167e-01],\n",
       "       [1.03436218e-01, 8.96563782e-01],\n",
       "       [1.46445292e-01, 8.53554708e-01],\n",
       "       [9.60809884e-02, 9.03919012e-01],\n",
       "       [3.26876860e-01, 6.73123140e-01],\n",
       "       [9.85513750e-01, 1.44862498e-02],\n",
       "       [5.56311537e-03, 9.94436885e-01],\n",
       "       [1.21921665e-01, 8.78078335e-01],\n",
       "       [2.59746911e-03, 9.97402531e-01],\n",
       "       [9.79744555e-01, 2.02554451e-02],\n",
       "       [6.72875222e-03, 9.93271248e-01],\n",
       "       [3.21142785e-02, 9.67885722e-01],\n",
       "       [6.35887196e-01, 3.64112804e-01],\n",
       "       [4.17642929e-01, 5.82357071e-01],\n",
       "       [1.09358547e-03, 9.98906415e-01],\n",
       "       [2.77322417e-02, 9.72267758e-01],\n",
       "       [5.36603302e-03, 9.94633967e-01],\n",
       "       [9.83127457e-01, 1.68725428e-02],\n",
       "       [9.58153711e-01, 4.18462891e-02],\n",
       "       [3.42055626e-02, 9.65794437e-01],\n",
       "       [3.59972756e-01, 6.40027244e-01],\n",
       "       [9.91468530e-01, 8.53147001e-03],\n",
       "       [9.31299079e-01, 6.87009213e-02],\n",
       "       [9.81666131e-01, 1.83338686e-02],\n",
       "       [1.74460571e-01, 8.25539429e-01],\n",
       "       [3.80062384e-02, 9.61993762e-01],\n",
       "       [9.96180405e-01, 3.81959520e-03],\n",
       "       [9.99918844e-01, 8.11560718e-05],\n",
       "       [9.76962515e-01, 2.30374848e-02],\n",
       "       [9.77478023e-03, 9.90225220e-01],\n",
       "       [4.28099666e-02, 9.57190033e-01],\n",
       "       [9.83903388e-01, 1.60966123e-02],\n",
       "       [6.81012901e-01, 3.18987099e-01],\n",
       "       [9.99308834e-01, 6.91165671e-04],\n",
       "       [6.74627624e-01, 3.25372376e-01],\n",
       "       [3.87245062e-01, 6.12754938e-01],\n",
       "       [8.37579948e-01, 1.62420052e-01],\n",
       "       [1.72040853e-01, 8.27959147e-01],\n",
       "       [9.99316362e-01, 6.83638467e-04],\n",
       "       [2.41351366e-01, 7.58648634e-01],\n",
       "       [5.39166619e-02, 9.46083338e-01],\n",
       "       [5.60356679e-01, 4.39643321e-01],\n",
       "       [2.81570337e-02, 9.71842966e-01],\n",
       "       [2.43887832e-01, 7.56112168e-01],\n",
       "       [1.50873837e-01, 8.49126163e-01],\n",
       "       [8.25793714e-01, 1.74206286e-01],\n",
       "       [3.43360109e-01, 6.56639891e-01],\n",
       "       [2.54216107e-01, 7.45783893e-01],\n",
       "       [9.88750007e-01, 1.12499931e-02],\n",
       "       [9.06877534e-01, 9.31224664e-02],\n",
       "       [6.25386470e-01, 3.74613530e-01],\n",
       "       [1.08188993e-01, 8.91811007e-01],\n",
       "       [5.12555826e-02, 9.48744417e-01],\n",
       "       [7.76125337e-01, 2.23874663e-01],\n",
       "       [2.84137092e-01, 7.15862908e-01],\n",
       "       [9.69157402e-01, 3.08425976e-02]])"
      ]
     },
     "execution_count": 7,
     "metadata": {},
     "output_type": "execute_result"
    }
   ],
   "source": [
    "y_pred_proba"
   ]
  },
  {
   "cell_type": "markdown",
   "metadata": {},
   "source": [
    "### 2. Вычислите для этой модели метрики площади под кривыми (ROC-AUC и PR-AUC)."
   ]
  },
  {
   "cell_type": "code",
   "execution_count": 8,
   "metadata": {},
   "outputs": [],
   "source": [
    "from sklearn.metrics import roc_auc_score, roc_curve, precision_recall_curve, auc, classification_report\n",
    "import matplotlib.pyplot as plt"
   ]
  },
  {
   "cell_type": "code",
   "execution_count": 9,
   "metadata": {},
   "outputs": [],
   "source": [
    "fpr, tpr, _ = roc_curve(y_test, y_pred_proba[:, 1])"
   ]
  },
  {
   "cell_type": "code",
   "execution_count": 10,
   "metadata": {},
   "outputs": [
    {
     "data": {
      "image/png": "[encoded data removed]",
      "text/plain": [
       "<Figure size 640x480 with 1 Axes>"
      ]
     },
     "metadata": {},
     "output_type": "display_data"
    }
   ],
   "source": [
    "plt.plot([0, 1], [0, 1], linestyle='--')\n",
    "plt.plot(fpr, tpr, marker='.')\n",
    "plt.show()"
   ]
  },
  {
   "cell_type": "code",
   "execution_count": 11,
   "metadata": {},
   "outputs": [
    {
     "data": {
      "text/plain": [
       "0.9028205128205128"
      ]
     },
     "execution_count": 11,
     "metadata": {},
     "output_type": "execute_result"
    }
   ],
   "source": [
    "roc_auc_score(y_test, y_pred_proba[:, 1])"
   ]
  },
  {
   "cell_type": "code",
   "execution_count": 12,
   "metadata": {},
   "outputs": [],
   "source": [
    "precision, recall, _ = precision_recall_curve(y_test, y_pred_proba[:, 1])"
   ]
  },
  {
   "cell_type": "code",
   "execution_count": 13,
   "metadata": {},
   "outputs": [
    {
     "data": {
      "text/plain": [
       "[<matplotlib.lines.Line2D at 0x7f9748aea820>]"
      ]
     },
     "execution_count": 13,
     "metadata": {},
     "output_type": "execute_result"
    },
    {
     "data": {
      "image/png": "[encoded data removed]",
      "text/plain": [
       "<Figure size 640x480 with 1 Axes>"
      ]
     },
     "metadata": {},
     "output_type": "display_data"
    }
   ],
   "source": [
    "no_skill = len(y[y==1]) / len(y)\n",
    "plt.plot([0, 1], [no_skill, no_skill], linestyle='--')"
   ]
  },
  {
   "cell_type": "code",
   "execution_count": 14,
   "metadata": {},
   "outputs": [
    {
     "data": {
      "image/png": "[encoded data removed]",
      "text/plain": [
       "<Figure size 640x480 with 1 Axes>"
      ]
     },
     "metadata": {},
     "output_type": "display_data"
    }
   ],
   "source": [
    "plt.plot(recall, precision, marker='.')\n",
    "plt.show()"
   ]
  },
  {
   "cell_type": "code",
   "execution_count": 15,
   "metadata": {},
   "outputs": [
    {
     "data": {
      "text/plain": [
       "0.8977244980325833"
      ]
     },
     "execution_count": 15,
     "metadata": {},
     "output_type": "execute_result"
    }
   ],
   "source": [
    "auc(recall, precision)"
   ]
  },
  {
   "cell_type": "code",
   "execution_count": 16,
   "metadata": {},
   "outputs": [
    {
     "name": "stdout",
     "output_type": "stream",
     "text": [
      "              precision    recall  f1-score   support\n",
      "\n",
      "           0       0.83      0.82      0.83       240\n",
      "           1       0.84      0.85      0.84       260\n",
      "\n",
      "    accuracy                           0.83       500\n",
      "   macro avg       0.83      0.83      0.83       500\n",
      "weighted avg       0.83      0.83      0.83       500\n",
      "\n"
     ]
    }
   ],
   "source": [
    "y_test_pred = model.predict(X_test)\n",
    "print(classification_report(y_test, y_test_pred))"
   ]
  },
  {
   "cell_type": "markdown",
   "metadata": {},
   "source": [
    "### 3. Обучите на том же датасете другую модель и сравните ее эффективность по кривым и по метрикам."
   ]
  },
  {
   "cell_type": "code",
   "execution_count": 17,
   "metadata": {},
   "outputs": [],
   "source": [
    "from sklearn.neighbors import KNeighborsClassifier"
   ]
  },
  {
   "cell_type": "code",
   "execution_count": 18,
   "metadata": {},
   "outputs": [
    {
     "data": {
      "image/png": "[encoded data removed]",
      "text/plain": [
       "<Figure size 640x480 with 1 Axes>"
      ]
     },
     "metadata": {},
     "output_type": "display_data"
    }
   ],
   "source": [
    "model2 = KNeighborsClassifier(n_neighbors=250).fit(X_train, y_train)\n",
    "y_pred2_proba = model2.predict_proba(X_test)\n",
    "fpr, tpr, _ = roc_curve(y_test, y_pred2_proba[:, 1])\n",
    "\n",
    "plt.plot([0, 1], [0, 1], linestyle='--')\n",
    "plt.plot(fpr, tpr, marker='.')\n",
    "plt.show()"
   ]
  },
  {
   "cell_type": "code",
   "execution_count": 19,
   "metadata": {},
   "outputs": [
    {
     "data": {
      "text/plain": [
       "0.8630608974358974"
      ]
     },
     "execution_count": 19,
     "metadata": {},
     "output_type": "execute_result"
    }
   ],
   "source": [
    "roc_auc_score(y_test, y_pred2_proba[:, 1])"
   ]
  },
  {
   "cell_type": "markdown",
   "metadata": {},
   "source": [
    "### 4. Сгенерируйте датасет для бинарной классификации с большим дисбалансом классов, обучите на нам ту же модель и постройте кривые."
   ]
  },
  {
   "cell_type": "code",
   "execution_count": 20,
   "metadata": {},
   "outputs": [],
   "source": [
    "X, y = make_classification(n_samples=1000, n_classes=2, weights=[0.99, 0.01], random_state=1)"
   ]
  },
  {
   "cell_type": "code",
   "execution_count": 21,
   "metadata": {},
   "outputs": [
    {
     "name": "stdout",
     "output_type": "stream",
     "text": [
      "Датасет: Class0=985, Class1=15\n",
      "Обучающая: Class0=490, Class1=10\n",
      "Тестовая: Class0=495, Class1=5\n"
     ]
    }
   ],
   "source": [
    "X_train, X_test, y_train, y_test = train_test_split(X, y, test_size=0.5, random_state=4)\n",
    "\n",
    "print('Датасет: Class0=%d, Class1=%d' % (len(y[y==0]), len(y[y==1])))\n",
    "print('Обучающая: Class0=%d, Class1=%d' % (len(y_train[y_train==0]), len(y_train[y_train==1])))\n",
    "print('Тестовая: Class0=%d, Class1=%d' % (len(y_test[y_test==0]), len(y_test[y_test==1])))"
   ]
  },
  {
   "cell_type": "code",
   "execution_count": 22,
   "metadata": {},
   "outputs": [],
   "source": [
    "X_train, X_test, y_train, y_test = train_test_split(X, y, test_size=0.5, stratify=y)"
   ]
  },
  {
   "cell_type": "code",
   "execution_count": 23,
   "metadata": {},
   "outputs": [
    {
     "name": "stdout",
     "output_type": "stream",
     "text": [
      "Датасет: Class0=985, Class1=15\n",
      "Обучающая: Class0=492, Class1=8\n",
      "Тестовая: Class0=493, Class1=7\n"
     ]
    }
   ],
   "source": [
    "print('Датасет: Class0=%d, Class1=%d' % (len(y[y==0]), len(y[y==1])))\n",
    "print('Обучающая: Class0=%d, Class1=%d' % (len(y_train[y_train==0]), len(y_train[y_train==1])))\n",
    "print('Тестовая: Class0=%d, Class1=%d' % (len(y_test[y_test==0]), len(y_test[y_test==1])))"
   ]
  },
  {
   "cell_type": "code",
   "execution_count": 24,
   "metadata": {},
   "outputs": [],
   "source": [
    "model = LogisticRegression().fit(X_train, y_train)\n",
    "y_pred_proba = model.predict_proba(X_test)"
   ]
  },
  {
   "cell_type": "code",
   "execution_count": 25,
   "metadata": {},
   "outputs": [
    {
     "name": "stdout",
     "output_type": "stream",
     "text": [
      "              precision    recall  f1-score   support\n",
      "\n",
      "           0       0.99      1.00      0.99       493\n",
      "           1       0.00      0.00      0.00         7\n",
      "\n",
      "    accuracy                           0.98       500\n",
      "   macro avg       0.49      0.50      0.50       500\n",
      "weighted avg       0.97      0.98      0.98       500\n",
      "\n"
     ]
    }
   ],
   "source": [
    "y_test_pred = model.predict(X_test)\n",
    "print(classification_report(y_test, y_test_pred))"
   ]
  },
  {
   "cell_type": "code",
   "execution_count": 26,
   "metadata": {},
   "outputs": [
    {
     "data": {
      "image/png": "[encoded data removed]",
      "text/plain": [
       "<Figure size 640x480 with 1 Axes>"
      ]
     },
     "metadata": {},
     "output_type": "display_data"
    }
   ],
   "source": [
    "fpr, tpr, _ = roc_curve(y_test, y_pred_proba[:, 1])\n",
    "\n",
    "plt.plot([0, 1], [0, 1], linestyle='--')\n",
    "plt.plot(fpr, tpr, marker='.')\n",
    "plt.show()"
   ]
  },
  {
   "cell_type": "code",
   "execution_count": 27,
   "metadata": {},
   "outputs": [
    {
     "data": {
      "text/plain": [
       "0.738046942915097"
      ]
     },
     "execution_count": 27,
     "metadata": {},
     "output_type": "execute_result"
    }
   ],
   "source": [
    "roc_auc_score(y_test, y_pred_proba[:, 1])"
   ]
  },
  {
   "cell_type": "code",
   "execution_count": 28,
   "metadata": {},
   "outputs": [
    {
     "data": {
      "image/png": "[encoded data removed]",
      "text/plain": [
       "<Figure size 640x480 with 1 Axes>"
      ]
     },
     "metadata": {},
     "output_type": "display_data"
    }
   ],
   "source": [
    "precision, recall, _ = precision_recall_curve(y_test, y_pred_proba[:, 1])\n",
    "no_skill = len(y[y==1]) / len(y)\n",
    "plt.plot([0, 1], [no_skill, no_skill], linestyle='--')\n",
    "plt.plot(recall, precision, marker='.')\n",
    "plt.show()"
   ]
  },
  {
   "cell_type": "code",
   "execution_count": 29,
   "metadata": {},
   "outputs": [
    {
     "data": {
      "text/plain": [
       "0.050625765967986056"
      ]
     },
     "execution_count": 29,
     "metadata": {},
     "output_type": "execute_result"
    }
   ],
   "source": [
    "auc(recall, precision)"
   ]
  },
  {
   "cell_type": "markdown",
   "metadata": {},
   "source": [
    "### 5. Используйте данные, вычисленные для построения кривых для нахождения оптимального значения порога модели. Постройте матрицу классификации для модели с порогом по умолчанию и с лучшим порогом. Сравните результаты."
   ]
  },
  {
   "cell_type": "code",
   "execution_count": 30,
   "metadata": {},
   "outputs": [],
   "source": [
    "from numpy import argmax"
   ]
  },
  {
   "cell_type": "code",
   "execution_count": 31,
   "metadata": {},
   "outputs": [],
   "source": [
    "X, y = make_classification(n_samples=10000, n_classes=2, weights=[0.99, 0.01], random_state=1)\n",
    "X_train, X_test, y_train, y_test = train_test_split(X, y, test_size=0.5, stratify=y)\n",
    "\n",
    "model = LogisticRegression().fit(X_train, y_train)\n",
    "y_pred_proba = model.predict_proba(X_test)"
   ]
  },
  {
   "cell_type": "code",
   "execution_count": 32,
   "metadata": {},
   "outputs": [
    {
     "data": {
      "image/png": "[encoded data removed]",
      "text/plain": [
       "<Figure size 640x480 with 1 Axes>"
      ]
     },
     "metadata": {},
     "output_type": "display_data"
    }
   ],
   "source": [
    "p, r, pr_thresholds = precision_recall_curve(y_test, y_pred_proba[:, 1])\n",
    "no_skill = len(y[y==1]) / len(y)\n",
    "plt.plot([0, 1], [no_skill, no_skill], linestyle='--')\n",
    "plt.plot(r, p, marker='.')\n",
    "plt.show()"
   ]
  },
  {
   "cell_type": "code",
   "execution_count": 33,
   "metadata": {},
   "outputs": [
    {
     "data": {
      "text/plain": [
       "0.13614909018175161"
      ]
     },
     "execution_count": 33,
     "metadata": {},
     "output_type": "execute_result"
    }
   ],
   "source": [
    "f1 = (2 * p * r) / (p + r)\n",
    "ix = argmax(f1)\n",
    "pr_thresholds[ix]"
   ]
  },
  {
   "cell_type": "code",
   "execution_count": 34,
   "metadata": {},
   "outputs": [
    {
     "name": "stdout",
     "output_type": "stream",
     "text": [
      "Порог=0.136149, F-Score=0.420\n"
     ]
    }
   ],
   "source": [
    "print('Порог=%f, F-Score=%.3f' % (pr_thresholds[ix], f1[ix]))"
   ]
  },
  {
   "cell_type": "code",
   "execution_count": 35,
   "metadata": {},
   "outputs": [
    {
     "data": {
      "image/png": "[encoded data removed]",
      "text/plain": [
       "<Figure size 640x480 with 1 Axes>"
      ]
     },
     "metadata": {},
     "output_type": "display_data"
    }
   ],
   "source": [
    "plt.plot([0, 1], [no_skill, no_skill], linestyle='--')\n",
    "plt.plot(r, p, marker='.')\n",
    "plt.scatter(r[ix], p[ix], marker='o', color='black')\n",
    "plt.show()"
   ]
  },
  {
   "cell_type": "code",
   "execution_count": 36,
   "metadata": {},
   "outputs": [],
   "source": [
    "y_pred = (y_pred_proba[:, 1] > pr_thresholds[ix]).astype('int')"
   ]
  },
  {
   "cell_type": "code",
   "execution_count": 37,
   "metadata": {},
   "outputs": [
    {
     "name": "stdout",
     "output_type": "stream",
     "text": [
      "              precision    recall  f1-score   support\n",
      "\n",
      "           0       0.99      0.99      0.99      4920\n",
      "           1       0.49      0.35      0.41        80\n",
      "\n",
      "    accuracy                           0.98      5000\n",
      "   macro avg       0.74      0.67      0.70      5000\n",
      "weighted avg       0.98      0.98      0.98      5000\n",
      "\n"
     ]
    }
   ],
   "source": [
    "print(classification_report(y_test, y_pred))"
   ]
  },
  {
   "cell_type": "code",
   "execution_count": 38,
   "metadata": {},
   "outputs": [
    {
     "name": "stdout",
     "output_type": "stream",
     "text": [
      "              precision    recall  f1-score   support\n",
      "\n",
      "           0       0.99      1.00      0.99      4920\n",
      "           1       1.00      0.17      0.30        80\n",
      "\n",
      "    accuracy                           0.99      5000\n",
      "   macro avg       0.99      0.59      0.65      5000\n",
      "weighted avg       0.99      0.99      0.98      5000\n",
      "\n"
     ]
    }
   ],
   "source": [
    "y_pred = model.predict(X_test)\n",
    "print(classification_report(y_test, y_pred))"
   ]
  },
  {
   "cell_type": "markdown",
   "metadata": {},
   "source": [
    "Модель с порогом по умолчанию показывает лучший результат нежеле чем с порогом "
   ]
  },
  {
   "cell_type": "markdown",
   "metadata": {},
   "source": [
    "## Задания для самостоятельного выполнения"
   ]
  },
  {
   "cell_type": "markdown",
   "metadata": {},
   "source": [
    "### 1. Повторите анализ из лабораторной работы, но с двумерными датасетами. Изобразите графически, как изменение порога влияет на расположение границы принятия решений."
   ]
  },
  {
   "cell_type": "code",
   "execution_count": 39,
   "metadata": {},
   "outputs": [],
   "source": [
    "X, y = make_classification(n_samples=1000, n_features=2, n_informative=2, n_redundant=0, random_state=42)\n"
   ]
  },
  {
   "cell_type": "code",
   "execution_count": 40,
   "metadata": {},
   "outputs": [],
   "source": [
    "X_train, X_test, y_train, y_test = train_test_split(X, y, test_size=0.2, random_state=42)"
   ]
  },
  {
   "cell_type": "code",
   "execution_count": 41,
   "metadata": {},
   "outputs": [
    {
     "data": {
      "text/plain": [
       "LogisticRegression()"
      ]
     },
     "execution_count": 41,
     "metadata": {},
     "output_type": "execute_result"
    }
   ],
   "source": [
    "model = LogisticRegression()\n",
    "model.fit(X_train, y_train)"
   ]
  },
  {
   "cell_type": "code",
   "execution_count": 42,
   "metadata": {},
   "outputs": [],
   "source": [
    "y_probs = model.predict_proba(X_test)[:, 1]"
   ]
  },
  {
   "cell_type": "code",
   "execution_count": 43,
   "metadata": {},
   "outputs": [],
   "source": [
    "fpr, tpr, thresholds = roc_curve(y_test, y_probs)"
   ]
  },
  {
   "cell_type": "code",
   "execution_count": 44,
   "metadata": {},
   "outputs": [
    {
     "data": {
      "image/png": "[encoded data removed]",
      "text/plain": [
       "<Figure size 640x480 with 1 Axes>"
      ]
     },
     "metadata": {},
     "output_type": "display_data"
    }
   ],
   "source": [
    "plt.plot(fpr, tpr, label='ROC Curve', color = 'red')\n",
    "plt.plot([0, 1], [0, 1], linestyle='--', color = 'green')\n",
    "plt.xlabel('False Positive Rate')\n",
    "plt.ylabel('True Positive Rate')\n",
    "plt.title('ROC Curve for Different Thresholds')\n",
    "plt.show()"
   ]
  },
  {
   "cell_type": "code",
   "execution_count": 45,
   "metadata": {},
   "outputs": [
    {
     "data": {
      "text/plain": [
       "0.9545954595459546"
      ]
     },
     "execution_count": 45,
     "metadata": {},
     "output_type": "execute_result"
    }
   ],
   "source": [
    "roc_auc_score(y_test, y_probs)"
   ]
  },
  {
   "cell_type": "markdown",
   "metadata": {},
   "source": [
    "### 2. Повторите анализ на реальном датасете для бинарной классификации. Проинтерпретируйте результат, сделайте вывод."
   ]
  },
  {
   "cell_type": "code",
   "execution_count": 46,
   "metadata": {},
   "outputs": [],
   "source": [
    "from sklearn.datasets import load_breast_cancer"
   ]
  },
  {
   "cell_type": "code",
   "execution_count": 47,
   "metadata": {},
   "outputs": [],
   "source": [
    "data = load_breast_cancer()\n",
    "X = data.data\n",
    "y = data.target"
   ]
  },
  {
   "cell_type": "code",
   "execution_count": 48,
   "metadata": {},
   "outputs": [],
   "source": [
    "X_train, X_test, y_train, y_test = train_test_split(X, y, test_size=0.2, random_state=42)"
   ]
  },
  {
   "cell_type": "code",
   "execution_count": 49,
   "metadata": {},
   "outputs": [
    {
     "name": "stderr",
     "output_type": "stream",
     "text": [
      "/Users/egorprozorov/opt/anaconda3/lib/python3.9/site-packages/sklearn/linear_model/_logistic.py:814: ConvergenceWarning: lbfgs failed to converge (status=1):\n",
      "STOP: TOTAL NO. of ITERATIONS REACHED LIMIT.\n",
      "\n",
      "Increase the number of iterations (max_iter) or scale the data as shown in:\n",
      "    https://scikit-learn.org/stable/modules/preprocessing.html\n",
      "Please also refer to the documentation for alternative solver options:\n",
      "    https://scikit-learn.org/stable/modules/linear_model.html#logistic-regression\n",
      "  n_iter_i = _check_optimize_result(\n"
     ]
    },
    {
     "data": {
      "text/plain": [
       "LogisticRegression()"
      ]
     },
     "execution_count": 49,
     "metadata": {},
     "output_type": "execute_result"
    }
   ],
   "source": [
    "model = LogisticRegression()\n",
    "model.fit(X_train, y_train)"
   ]
  },
  {
   "cell_type": "code",
   "execution_count": 50,
   "metadata": {},
   "outputs": [],
   "source": [
    "y_probs = model.predict_proba(X_test)[:, 1]"
   ]
  },
  {
   "cell_type": "code",
   "execution_count": 51,
   "metadata": {},
   "outputs": [],
   "source": [
    "fpr, tpr, thresholds = roc_curve(y_test, y_probs)"
   ]
  },
  {
   "cell_type": "code",
   "execution_count": 52,
   "metadata": {},
   "outputs": [
    {
     "data": {
      "image/png": "[encoded data removed]",
      "text/plain": [
       "<Figure size 640x480 with 1 Axes>"
      ]
     },
     "metadata": {},
     "output_type": "display_data"
    }
   ],
   "source": [
    "plt.plot(fpr, tpr, label='ROC Curve')\n",
    "plt.plot([0, 1], [0, 1], linestyle='--', color = 'green')\n",
    "plt.xlabel('False Positive Rate')\n",
    "plt.ylabel('True Positive Rate')\n",
    "plt.title('ROC Curve - Breast Cancer Dataset')\n",
    "plt.show()"
   ]
  },
  {
   "cell_type": "code",
   "execution_count": 53,
   "metadata": {},
   "outputs": [
    {
     "data": {
      "text/plain": [
       "0.9983622666229938"
      ]
     },
     "execution_count": 53,
     "metadata": {},
     "output_type": "execute_result"
    }
   ],
   "source": [
    "roc_auc_score(y_test, y_probs)"
   ]
  },
  {
   "cell_type": "markdown",
   "metadata": {},
   "source": [
    "### 3. В задании по оптимизации порога используйте ROC и среднее геометрическое между TPR и FPR как критерий оптимизации."
   ]
  },
  {
   "cell_type": "code",
   "execution_count": 54,
   "metadata": {},
   "outputs": [],
   "source": [
    "geom_mean = np.sqrt(tpr * (1 - fpr))\n",
    "optimal_threshold_index = np.argmax(geom_mean)\n",
    "optimal_threshold = thresholds[optimal_threshold_index]"
   ]
  },
  {
   "cell_type": "code",
   "execution_count": 55,
   "metadata": {},
   "outputs": [
    {
     "data": {
      "text/plain": [
       "0.7942604841897715"
      ]
     },
     "execution_count": 55,
     "metadata": {},
     "output_type": "execute_result"
    }
   ],
   "source": [
    "optimal_threshold"
   ]
  },
  {
   "cell_type": "markdown",
   "metadata": {},
   "source": [
    "### 4. При оптимизации порога по PR-кривой используйте другую F-метрику - сначала с преимуществом precision, а затем - с превалированием recall. Изобразите получившиеся пороги на графике. Проанализируйте метрики получившихся моделей."
   ]
  },
  {
   "cell_type": "code",
   "execution_count": 56,
   "metadata": {},
   "outputs": [],
   "source": [
    "precision, recall, pr_thresholds = precision_recall_curve(y_test, y_probs)"
   ]
  },
  {
   "cell_type": "code",
   "execution_count": 57,
   "metadata": {},
   "outputs": [],
   "source": [
    "precision_optimal_threshold = pr_thresholds[np.argmax(precision)]"
   ]
  },
  {
   "cell_type": "code",
   "execution_count": 58,
   "metadata": {},
   "outputs": [],
   "source": [
    "recall_optimal_threshold = pr_thresholds[np.argmax(recall)]"
   ]
  },
  {
   "cell_type": "code",
   "execution_count": 59,
   "metadata": {},
   "outputs": [
    {
     "data": {
      "image/png": "[encoded data removed]",
      "text/plain": [
       "<Figure size 640x480 with 1 Axes>"
      ]
     },
     "metadata": {},
     "output_type": "display_data"
    }
   ],
   "source": [
    "plt.plot(recall, precision, label='PR Curve')\n",
    "plt.scatter(np.argmax(precision), precision[np.argmax(precision)], color='red', label='Precision-optimal threshold')\n",
    "plt.scatter(np.argmax(recall), recall[np.argmax(recall)], color='blue', label='Recall-optimal threshold')\n",
    "plt.xlabel('Recall')\n",
    "plt.ylabel('Precision')\n",
    "plt.title('Precision-Recall Curve')\n",
    "plt.legend()\n",
    "plt.show()"
   ]
  },
  {
   "cell_type": "code",
   "execution_count": 60,
   "metadata": {},
   "outputs": [
    {
     "data": {
      "text/plain": [
       "(0.7942604841897715, 0.3355887247359753)"
      ]
     },
     "execution_count": 60,
     "metadata": {},
     "output_type": "execute_result"
    }
   ],
   "source": [
    "precision_optimal_threshold, recall_optimal_threshold"
   ]
  },
  {
   "cell_type": "markdown",
   "metadata": {},
   "source": [
    "### 5. Постройте классификационные кривые для задачи множественной классификации. Проинтерпретируйте результат."
   ]
  },
  {
   "cell_type": "code",
   "execution_count": 61,
   "metadata": {},
   "outputs": [],
   "source": [
    "from sklearn.ensemble import RandomForestClassifier\n",
    "from sklearn.metrics import confusion_matrix\n",
    "from sklearn.datasets import load_iris"
   ]
  },
  {
   "cell_type": "code",
   "execution_count": 62,
   "metadata": {},
   "outputs": [],
   "source": [
    "data = load_iris()\n",
    "X = data.data\n",
    "y = data.target"
   ]
  },
  {
   "cell_type": "code",
   "execution_count": 63,
   "metadata": {},
   "outputs": [],
   "source": [
    "X_train, X_test, y_train, y_test = train_test_split(X, y, test_size=0.3, random_state=42)"
   ]
  },
  {
   "cell_type": "code",
   "execution_count": 64,
   "metadata": {},
   "outputs": [
    {
     "data": {
      "text/plain": [
       "RandomForestClassifier()"
      ]
     },
     "execution_count": 64,
     "metadata": {},
     "output_type": "execute_result"
    }
   ],
   "source": [
    "rf = RandomForestClassifier()\n",
    "rf.fit(X_train, y_train)"
   ]
  },
  {
   "cell_type": "code",
   "execution_count": 65,
   "metadata": {},
   "outputs": [],
   "source": [
    "y_pred = rf.predict(X_test)"
   ]
  },
  {
   "cell_type": "code",
   "execution_count": 66,
   "metadata": {},
   "outputs": [],
   "source": [
    "cm = confusion_matrix(y_test, y_pred)"
   ]
  },
  {
   "cell_type": "code",
   "execution_count": 67,
   "metadata": {},
   "outputs": [
    {
     "data": {
      "image/png": "[encoded data removed]",
      "text/plain": [
       "<Figure size 600x600 with 2 Axes>"
      ]
     },
     "metadata": {},
     "output_type": "display_data"
    }
   ],
   "source": [
    "plt.figure(figsize=(6,6))\n",
    "sns.heatmap(cm, annot=True, fmt='d', cmap='Blues', xticklabels=data.target_names, yticklabels=data.target_names)\n",
    "plt.xlabel('Predicted')\n",
    "plt.ylabel('True')\n",
    "plt.title('Confusion Matrix for Iris Dataset')\n",
    "plt.show()"
   ]
  },
  {
   "cell_type": "markdown",
   "metadata": {},
   "source": [
    "**1. Какие модели можно оценивать с помощью классификационных кривых (ROC и PR) и почему именно их?**\n",
    "\n",
    "Классификационные кривые, такие как ROC (Receiver Operating Characteristic) и PR (Precision-Recall), можно использовать для оценки моделей, которые решают задачи классификации, особенно бинарной классификации. Эти кривые помогают оценить, насколько хорошо модель различает положительный и отрицательный классы, а также как хорошо она работает при различных порогах принятия решения.\n",
    "\n",
    "- **ROC-кривая** используется для оценки моделей, которые пытаются предсказать вероятность принадлежности объекта к положительному классу.\n",
    "- **PR-кривая** предпочтительнее, когда классы сильно несбалансированы, так как она более четко отображает производительность модели для меньшинства класса.\n",
    "\n",
    "**2. В каких случаях лучше использовать PR-кривую, а в каких - ROC и почему?**\n",
    "\n",
    "- **PR-кривая**: Лучше использовать, когда классы сильно несбалансированы, то есть один класс встречается гораздо реже, чем другой. PR-кривая в таких случаях более информативна, поскольку она фокусируется на производительности модели на меньшинственном классе, что важно в таких задачах, как детекция спама или диагностика заболеваний.\n",
    "  \n",
    "- **ROC-кривая**: Хорошо подходит для сбалансированных классов. ROC-кривая оценивает производительность модели по всем классам, и её можно использовать для общей оценки модели, так как она показывает компромисс между чувствительностью (recall) и специфичностью (1 - false positive rate).\n",
    "\n",
    "**3. Какие виды усреднения вы знаете (micro, macro) и в чем особенности их применения?**\n",
    "\n",
    "- **Micro-усреднение**: В этом случае метрики (такие как точность, полнота, F1-меры) рассчитываются на основе глобальных сумм истинных положительных, ложных положительных, истинных отрицательных и ложных отрицательных значений для всех классов. Это дает представление о производительности модели в целом. Обычно используется, когда важна общая производительность модели, а не отдельно взятые классы.\n",
    "\n",
    "- **Macro-усреднение**: Здесь метрики рассчитываются для каждого класса отдельно, а затем усредняются. Каждый класс имеет одинаковый вес при усреднении, что может быть полезно, если классы имеют схожую важность, и мы не хотим, чтобы доминирующий класс (при дисбалансе классов) влиянил на результаты.\n",
    "\n",
    "**4. Как вычисляются метрики для построения кривых в задачах множественной классификации?**\n",
    "\n",
    "Для построения кривых (ROC или PR) в задачах множественной классификации метрики обычно вычисляются для каждого класса отдельно, затем результаты агрегируются. Это можно делать разными способами:\n",
    "\n",
    "- **One-vs-Rest (OvR)**: Для каждого класса строится отдельная кривая ROC или PR, сравнивая один класс с остальными. Например, в задаче с тремя классами A, B и C будет построено три кривых (для A против B и C, для B против A и C, для C против A и B).\n",
    "  \n",
    "- **One-vs-One (OvO)**: Построение кривой для каждой пары классов, сравнивая их между собой.\n",
    "\n",
    "После этого можно использовать методы усреднения (например, micro или macro), чтобы объединить результаты для всех классов и получить одну кривую.\n",
    "\n",
    "**5. Почему при построении кривых с помощью yellowbrick на графике отображаются сразу несколько кривых и что они значат?**\n",
    "\n",
    "При использовании библиотеки Yellowbrick для построения кривых (например, ROC или PR), на графике отображаются несколько кривых для разных классов или для различных методов усреднения. Эти кривые показывают производительность модели для каждого класса или агрегированно для всех классов.\n",
    "\n",
    "- **Кривые для каждого класса**: Отображают производительность модели для каждого конкретного класса в задаче многоклассовой классификации.\n",
    "  \n",
    "- **Кривые для усреднения**: Например, micro и macro усреднение показывают общую производительность модели с учётом всех классов. Micro усреднение агрегирует результаты по всем классам, а macro усреднение усредняет метрики для каждого класса. \n",
    "\n",
    "Таким образом, можно оценить, насколько хорошо модель работает для разных классов, а также получить общее представление о её производительности."
   ]
  },
  {
   "cell_type": "markdown",
   "metadata": {},
   "source": []
  }
 ],
 "metadata": {
  "kernelspec": {
   "display_name": "base",
   "language": "python",
   "name": "python3"
  },
  "language_info": {
   "codemirror_mode": {
    "name": "ipython",
    "version": 3
   },
   "file_extension": ".py",
   "mimetype": "text/x-python",
   "name": "python",
   "nbconvert_exporter": "python",
   "pygments_lexer": "ipython3",
   "version": "3.9.13"
  }
 },
 "nbformat": 4,
 "nbformat_minor": 2
}
